{
  "nbformat": 4,
  "nbformat_minor": 0,
  "metadata": {
    "colab": {
      "name": "Google Colab Test.ipynb",
      "provenance": [],
      "collapsed_sections": [
        "NSPh4ypBe0Tz",
        "yx5pDYpke6dy"
      ],
      "authorship_tag": "ABX9TyNV//n0NNv6E3/rf2OTn1JQ",
      "include_colab_link": true
    },
    "kernelspec": {
      "name": "python3",
      "display_name": "Python 3"
    }
  },
  "cells": [
    {
      "cell_type": "markdown",
      "metadata": {
        "id": "view-in-github",
        "colab_type": "text"
      },
      "source": [
        "<a href=\"https://colab.research.google.com/github/nkiryakov/m1-1-htmlcss--html/blob/master/Google_Colab_Test.ipynb\" target=\"_parent\"><img src=\"https://colab.research.google.com/assets/colab-badge.svg\" alt=\"Open In Colab\"/></a>"
      ]
    },
    {
      "cell_type": "markdown",
      "metadata": {
        "id": "NSPh4ypBe0Tz"
      },
      "source": [
        "# Header"
      ]
    },
    {
      "cell_type": "code",
      "metadata": {
        "id": "cNmst6anex0o"
      },
      "source": [
        ""
      ],
      "execution_count": null,
      "outputs": []
    },
    {
      "cell_type": "code",
      "metadata": {
        "id": "mTDQXkzye4Yu"
      },
      "source": [
        ""
      ],
      "execution_count": null,
      "outputs": []
    },
    {
      "cell_type": "code",
      "metadata": {
        "id": "kSoNrg1de5RL"
      },
      "source": [
        ""
      ],
      "execution_count": null,
      "outputs": []
    },
    {
      "cell_type": "markdown",
      "metadata": {
        "id": "yx5pDYpke6dy"
      },
      "source": [
        "# Header 2"
      ]
    },
    {
      "cell_type": "code",
      "metadata": {
        "id": "ZkF1kBBJe78K"
      },
      "source": [
        ""
      ],
      "execution_count": null,
      "outputs": []
    }
  ]
}